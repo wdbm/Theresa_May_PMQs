{
 "cells": [
  {
   "cell_type": "markdown",
   "metadata": {},
   "source": [
    "# convert Theresa May PMQs subtitles to DataFrame"
   ]
  },
  {
   "cell_type": "code",
   "execution_count": 1,
   "metadata": {},
   "outputs": [
    {
     "data": {
      "text/html": [
       "<div>\n",
       "<style>\n",
       "    .dataframe thead tr:only-child th {\n",
       "        text-align: right;\n",
       "    }\n",
       "\n",
       "    .dataframe thead th {\n",
       "        text-align: left;\n",
       "    }\n",
       "\n",
       "    .dataframe tbody tr th {\n",
       "        vertical-align: top;\n",
       "    }\n",
       "</style>\n",
       "<table border=\"1\" class=\"dataframe\">\n",
       "  <thead>\n",
       "    <tr style=\"text-align: right;\">\n",
       "      <th></th>\n",
       "      <th>entity</th>\n",
       "      <th>expression</th>\n",
       "    </tr>\n",
       "  </thead>\n",
       "  <tbody>\n",
       "    <tr>\n",
       "      <th>0</th>\n",
       "      <td>John Glen (Salisbury) (Con)</td>\n",
       "      <td>If she will list her official engagements for ...</td>\n",
       "    </tr>\n",
       "    <tr>\n",
       "      <th>1</th>\n",
       "      <td>The Prime Minister</td>\n",
       "      <td>I am sure that the whole House will wish to jo...</td>\n",
       "    </tr>\n",
       "    <tr>\n",
       "      <th>2</th>\n",
       "      <td>John Glen</td>\n",
       "      <td>I warmly welcome the Prime Minister to her pla...</td>\n",
       "    </tr>\n",
       "    <tr>\n",
       "      <th>3</th>\n",
       "      <td>The Prime Minister</td>\n",
       "      <td>I thank my hon. Friend for his kind remarks. I...</td>\n",
       "    </tr>\n",
       "    <tr>\n",
       "      <th>4</th>\n",
       "      <td>Jeremy Corbyn (Islington North) (Lab)</td>\n",
       "      <td>May I welcome the right hon. Lady to her first...</td>\n",
       "    </tr>\n",
       "  </tbody>\n",
       "</table>\n",
       "</div>"
      ],
      "text/plain": [
       "                                  entity  \\\n",
       "0            John Glen (Salisbury) (Con)   \n",
       "1                     The Prime Minister   \n",
       "2                              John Glen   \n",
       "3                     The Prime Minister   \n",
       "4  Jeremy Corbyn (Islington North) (Lab)   \n",
       "\n",
       "                                          expression  \n",
       "0  If she will list her official engagements for ...  \n",
       "1  I am sure that the whole House will wish to jo...  \n",
       "2  I warmly welcome the Prime Minister to her pla...  \n",
       "3  I thank my hon. Friend for his kind remarks. I...  \n",
       "4  May I welcome the right hon. Lady to her first...  "
      ]
     },
     "execution_count": 1,
     "metadata": {},
     "output_type": "execute_result"
    }
   ],
   "source": [
    "import pandas as pd\n",
    "\n",
    "filenames = [\n",
    "    \"2016-07-20_PMQs.srt\",\n",
    "    \"2016-10-12_PMQs.srt\",\n",
    "    \"2016-10-19_PMQs.srt\",\n",
    "    \"2016-11-02_PMQs.srt\",\n",
    "    \"2016-11-16_PMQs.srt\",\n",
    "    \"2016-11-23_PMQs.srt\",\n",
    "    \"2016-11-30_PMQs.srt\",\n",
    "    \"2016-12-07_PMQs.srt\",\n",
    "    \"2016-12-14_PMQs.srt\",\n",
    "    \"2017-01-11_PMQs.srt\",\n",
    "    \"2017-01-18_PMQs.srt\",\n",
    "    \"2017-01-25_PMQs.srt\",\n",
    "    \"2017-02-01_PMQs.srt\",\n",
    "    \"2017-02-08_PMQs.srt\",\n",
    "    \"2017-02-22_PMQs.srt\",\n",
    "    \"2017-03-01_PMQs.srt\",\n",
    "    \"2017-03-08_PMQs.srt\",\n",
    "    \"2017-03-15_PMQs.srt\",\n",
    "    \"2017-03-22_PMQs.srt\",\n",
    "    \"2017-03-29_PMQs.srt\",\n",
    "    \"2017-04-19_PMQs.srt\",\n",
    "    \"2017-04-26_PMQs.srt\"\n",
    "]\n",
    "\n",
    "expressions = []\n",
    "\n",
    "for filename in filenames:\n",
    "\n",
    "    data_file = open(filename, \"r\")\n",
    "    data = \" \".join([line.rstrip(\"\\n\") for line in data_file.readlines() if not line[0].isdigit() and not line == \"\\n\"])\n",
    "    data = data.split(\">>\")\n",
    "    data = [line.lstrip(\" \") for line in data if line is not \"\"]\n",
    "\n",
    "    for datum in data:\n",
    "\n",
    "        tmp = datum.split(\": \")\n",
    "        if len(tmp) == 1:\n",
    "            tmp = datum.split(\" (Mrs Theresa May) \")\n",
    "        if len(tmp) == 1:\n",
    "            tmp = datum.split(\"The Prime Minister \")\n",
    "            if len(tmp) == 2:\n",
    "                tmp[0] = \"The Prime Minister\"\n",
    "        if len(tmp) == 1:\n",
    "            tmp = datum.split(\"Mr Ronnie Campbell (Blyth Valley) (Lab) \")\n",
    "            if len(tmp) == 2:\n",
    "                tmp[0] = \"Mr Ronnie Campbell (Blyth Valley) (Lab)\"\n",
    "        if \"Theresa May\" in tmp[0]:\n",
    "            tmp[0] = \"The Prime Minister\"\n",
    "\n",
    "        expressions.append([tmp[0], tmp[1]])\n",
    "\n",
    "df = pd.DataFrame(expressions, columns = [\"entity\", \"expression\"])\n",
    "\n",
    "df.head()"
   ]
  },
  {
   "cell_type": "code",
   "execution_count": 2,
   "metadata": {},
   "outputs": [
    {
     "data": {
      "text/html": [
       "<div>\n",
       "<style>\n",
       "    .dataframe thead tr:only-child th {\n",
       "        text-align: right;\n",
       "    }\n",
       "\n",
       "    .dataframe thead th {\n",
       "        text-align: left;\n",
       "    }\n",
       "\n",
       "    .dataframe tbody tr th {\n",
       "        vertical-align: top;\n",
       "    }\n",
       "</style>\n",
       "<table border=\"1\" class=\"dataframe\">\n",
       "  <thead>\n",
       "    <tr style=\"text-align: right;\">\n",
       "      <th></th>\n",
       "      <th>entity</th>\n",
       "      <th>expression</th>\n",
       "    </tr>\n",
       "  </thead>\n",
       "  <tbody>\n",
       "    <tr>\n",
       "      <th>1</th>\n",
       "      <td>The Prime Minister</td>\n",
       "      <td>I am sure that the whole House will wish to jo...</td>\n",
       "    </tr>\n",
       "    <tr>\n",
       "      <th>3</th>\n",
       "      <td>The Prime Minister</td>\n",
       "      <td>I thank my hon. Friend for his kind remarks. I...</td>\n",
       "    </tr>\n",
       "    <tr>\n",
       "      <th>5</th>\n",
       "      <td>The Prime Minister</td>\n",
       "      <td>I thank the right hon. Gentleman for the welco...</td>\n",
       "    </tr>\n",
       "    <tr>\n",
       "      <th>7</th>\n",
       "      <td>The Prime Minister</td>\n",
       "      <td>I notice the timeline that the right hon. Gent...</td>\n",
       "    </tr>\n",
       "    <tr>\n",
       "      <th>9</th>\n",
       "      <td>The Prime Minister</td>\n",
       "      <td>The  right hon. Gentleman started his question...</td>\n",
       "    </tr>\n",
       "  </tbody>\n",
       "</table>\n",
       "</div>"
      ],
      "text/plain": [
       "               entity                                         expression\n",
       "1  The Prime Minister  I am sure that the whole House will wish to jo...\n",
       "3  The Prime Minister  I thank my hon. Friend for his kind remarks. I...\n",
       "5  The Prime Minister  I thank the right hon. Gentleman for the welco...\n",
       "7  The Prime Minister  I notice the timeline that the right hon. Gent...\n",
       "9  The Prime Minister  The  right hon. Gentleman started his question..."
      ]
     },
     "execution_count": 2,
     "metadata": {},
     "output_type": "execute_result"
    }
   ],
   "source": [
    "df = df[df[\"entity\"] == \"The Prime Minister\"]\n",
    "\n",
    "df.head()"
   ]
  },
  {
   "cell_type": "code",
   "execution_count": 3,
   "metadata": {},
   "outputs": [
    {
     "data": {
      "text/plain": [
       "'I am sure that the whole House will wish to join me in welcoming today’s employment figures, which show employment at another record high, the lowest unemployment rate in over a decade and wages rising. This morning I had meetings with ministerial colleagues and others, and in addition to my duties in this House I shall have further such meetings later today. This afternoon, I will travel to Berlin to meet Chancellor Merkel to discuss how we implement the decision that the British people took in the referendum, and I expect we will also cover a number of other pressing international issues. Tomorrow, I will visit Paris for similar discussions with President Hollande.  I thank my hon. Friend for his kind remarks. I join him in enthusiastically welcoming the vote taken in this House on Monday evening to renew our nuclear deterrent. I think that vote showed the commitment of this House I thank the right hon. Gentleman for the welcome he has given me. He referred to me as the second woman '"
      ]
     },
     "execution_count": 3,
     "metadata": {},
     "output_type": "execute_result"
    }
   ],
   "source": [
    "corpus = \" \".join(df[\"expression\"].tolist())\n",
    "\n",
    "corpus[:1000]"
   ]
  },
  {
   "cell_type": "markdown",
   "metadata": {},
   "source": [
    "# create corpus of Theresa May PMQs expressions"
   ]
  },
  {
   "cell_type": "code",
   "execution_count": 4,
   "metadata": {
    "collapsed": true
   },
   "outputs": [],
   "source": [
    "with open(\"Theresa_May_PMQs_corpus.txt\", \"w\") as file_corpus:\n",
    "    file_corpus.write(corpus)"
   ]
  },
  {
   "cell_type": "code",
   "execution_count": null,
   "metadata": {
    "collapsed": true
   },
   "outputs": [],
   "source": []
  }
 ],
 "metadata": {
  "kernelspec": {
   "display_name": "Python 3",
   "language": "python",
   "name": "python3"
  },
  "language_info": {
   "codemirror_mode": {
    "name": "ipython",
    "version": 3
   },
   "file_extension": ".py",
   "mimetype": "text/x-python",
   "name": "python",
   "nbconvert_exporter": "python",
   "pygments_lexer": "ipython3",
   "version": "3.5.2"
  }
 },
 "nbformat": 4,
 "nbformat_minor": 2
}
